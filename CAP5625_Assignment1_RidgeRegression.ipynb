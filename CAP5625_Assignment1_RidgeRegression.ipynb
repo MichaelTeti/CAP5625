{
  "nbformat": 4,
  "nbformat_minor": 0,
  "metadata": {
    "colab": {
      "name": "CAP5625_Assignment1.ipynb",
      "provenance": [],
      "collapsed_sections": []
    },
    "kernelspec": {
      "name": "python3",
      "display_name": "Python 3"
    }
  },
  "cells": [
    {
      "cell_type": "code",
      "metadata": {
        "id": "ZfXIWZ57NkON"
      },
      "source": [
        "import numpy as np\n",
        "import matplotlib.pyplot as plt\n",
        "import os\n",
        "from google.colab import drive\n",
        "import pandas as pd"
      ],
      "execution_count": 21,
      "outputs": []
    },
    {
      "cell_type": "code",
      "metadata": {
        "id": "woVa-BSjOMmI",
        "outputId": "cff1922f-b5d6-4030-9815-9daea2ad6632",
        "colab": {
          "base_uri": "https://localhost:8080/",
          "height": 34
        }
      },
      "source": [
        "# mount your google drive to access the dataset file\n",
        "drive.mount('/content/drive/')"
      ],
      "execution_count": 22,
      "outputs": [
        {
          "output_type": "stream",
          "text": [
            "Drive already mounted at /content/drive/; to attempt to forcibly remount, call drive.mount(\"/content/drive/\", force_remount=True).\n"
          ],
          "name": "stdout"
        }
      ]
    },
    {
      "cell_type": "code",
      "metadata": {
        "id": "HmTYcUu8OUvO"
      },
      "source": [
        "# navigate through filesystem to where the file is\n",
        "os.chdir('/content/drive/My Drive/')"
      ],
      "execution_count": 23,
      "outputs": []
    },
    {
      "cell_type": "code",
      "metadata": {
        "id": "nMdVQfNePLQJ"
      },
      "source": [
        "class RidgeRegressionCV:\n",
        "    def __init__(self, preds, responses, lambdas, nfolds = 5, alpha = 1e-4, n_iters = 1000):\n",
        "        '''\n",
        "        A class that implements ridge regression with cross validation to identify the optimal\n",
        "        tuning parameter.\n",
        "\n",
        "        Args:\n",
        "            preds (np.ndarray): A N x M array where N is the number of samples and M is the \n",
        "                number of predictors or features.\n",
        "            responses (np.ndarray): A N-dimensional vector of responses corresponding to \n",
        "                preds.\n",
        "            lambdas (list): The different values of lambda to try.\n",
        "            nfolds (int): The number of cross validation folds to use for each lambda given.\n",
        "                Default is 5.\n",
        "            alpha (float > 0): The learning rate. Default is 1e-4.\n",
        "            n_iters (int > 0): The number of updates to the coefficient vector before stopping. \n",
        "        '''\n",
        "\n",
        "        self.x, self.y = self._shuffle_data(preds, responses)\n",
        "        self.lambdas = lambdas \n",
        "        self.nfolds = nfolds\n",
        "        self.alpha = alpha \n",
        "        self.n_iters = n_iters\n",
        "        self._initialize()\n",
        "\n",
        "\n",
        "    def _initialize(self):\n",
        "        '''\n",
        "        This function initializes certain values needed for training and checks that certain\n",
        "        arguments have appropriate values. \n",
        "        '''\n",
        "\n",
        "        # get number of samples and number of features\n",
        "        self.n_samples = self.x.shape[0]\n",
        "        self.n_preds = self.x.shape[1]\n",
        "    \n",
        "        # matrix to store the cross validation results \n",
        "        self.cv_vals = np.zeros([self.nfolds, len(self.lambdas)])\n",
        "\n",
        "        # determine the number of validation samples and their inds based on nfolds \n",
        "        self.n_val_samples = self.n_samples // self.nfolds \n",
        "        self.val_inds = list(range(0, self.n_samples, self.n_val_samples))\n",
        "\n",
        "        # create a tensor to store the Betas \n",
        "        self.B_trained = np.zeros([self.nfolds, len(self.lambdas), self.n_preds])\n",
        "\n",
        "        assert(all([lambda_val >= 0 for lambda_val in self.lambdas])), \\\n",
        "            'lambdas must not contain any negative values.'\n",
        "        assert(self.alpha > 0), \\\n",
        "            'alpha must be positive.'\n",
        "        assert(self.x.shape[0] == self.y.shape[0]), \\\n",
        "            \"number of responses doesn't equal number of rows in preds.\"\n",
        "        assert(self.n_iters > 0), \\\n",
        "            'n_iters should be > 0.'\n",
        "\n",
        "    def _standardize(self, x, mean_vec, std_vec):\n",
        "        '''\n",
        "        Standardizes the columns of the design matrix (i.e. makes each column zero-centered \n",
        "        with a standard deviation of 1).\n",
        "        \n",
        "        Args:\n",
        "            x (np.ndarray): The N x M design matrix with columns to be standardized.\n",
        "            mean_vec (np.ndarray): The M-dimentional vector representing the means of the columns of x.\n",
        "            std_vec (np.ndarray): The M-dimensional vector representing the stds of the columns of x.\n",
        "\n",
        "        Returns:\n",
        "            x_standardized (np.ndarray): The N x M design matrix, where the columns now have mean 0 and std 1.\n",
        "        '''\n",
        "\n",
        "        return (x - mean_vec) / std_vec \n",
        "\n",
        "    def _center_responses(self, y, mean):\n",
        "        '''\n",
        "        Centers a vector of responses around the mean by subtracting the given mean from every element in y. \n",
        "\n",
        "        Args: \n",
        "            y (np.ndarray): The N-dimensional vector of responses. \n",
        "            mean (np.ndarray): A float to subtract from the responses in y.\n",
        "\n",
        "        Returns:\n",
        "            y_centered (np.ndarray): The N-dimensional vector of responses with mean 0. \n",
        "        '''\n",
        "\n",
        "        return y - mean\n",
        "\n",
        "    def _shuffle_data(self, preds, responses):\n",
        "        '''\n",
        "        Shuffles the rows of the design matrix and the responses. \n",
        "\n",
        "        Args:\n",
        "            preds (np.ndarray): The N x M dimensional design matrix with N samples and M predictors.\n",
        "            responses (np.ndarray): The N-dimensional response vector corresponding to preds. \n",
        "\n",
        "        Returns:\n",
        "            preds_shuffled (np.ndarray): The N x M dimensional design matrix with permuted rows. \n",
        "            responses_shuffled (np.ndarray): The N-dimensional response vector with permuted values matching \n",
        "                preds_shuffled. \n",
        "        '''\n",
        "\n",
        "        data = np.concatenate((preds, responses[:, None]), 1)\n",
        "        np.random.shuffle(data)\n",
        "        return data[:, :-1], data[:, -1]\n",
        "\n",
        "    def _initialize_B(self):\n",
        "        '''\n",
        "        Initializes the coefficient vector B for each new model with values from U(-1, 1). \n",
        "\n",
        "        Args: \n",
        "            None\n",
        "\n",
        "        Returns:\n",
        "            B (np.ndarray): An M x 1 dimensional vector of randomly initialized coefficients.\n",
        "        '''\n",
        "\n",
        "        return np.random.uniform(low = -1, high = 1, size = (self.n_preds, 1))\n",
        "\n",
        "    def predict(self, x):\n",
        "        '''\n",
        "        A function to compute predicted responses given predictors. Must be called after fit().\n",
        "\n",
        "        Args:\n",
        "            x (np.ndarray): An N x M design matrix to compute predicted responses from.\n",
        "\n",
        "        Returns:\n",
        "            y_hat (np.ndarray): An N-dimensional vector of predicted responses for x. \n",
        "        '''\n",
        "\n",
        "        assert(self.mean_vec is not None and self.std_vec is not None), \\\n",
        "            'Model must be trained before predicting.'\n",
        "\n",
        "        x = self._standardize(x, self.mean_vec, self.std_vec)\n",
        "        return np.matmul(x, self.B)\n",
        "\n",
        "    def _get_folds(self, val_ind):\n",
        "        '''\n",
        "        Gets the appropriate validation and training sets given the CV iteration.\n",
        "\n",
        "        Args:\n",
        "            val_ind (int): The index of the validation set for the current CV iteration.\n",
        "\n",
        "        Returns:\n",
        "            x_train (np.ndarray): The training set design matrix.\n",
        "            x_val (np.ndarray): The validation set design matrix.\n",
        "            y_train (np.ndarray): The vector of training responses.\n",
        "            y_val (np.ndarray): The vector of validation responses. \n",
        "        '''\n",
        "\n",
        "        x_val = self.x[val_ind:val_ind + self.n_val_samples]\n",
        "        x_train = np.delete(self.x, np.arange(val_ind, val_ind + self.n_val_samples), axis = 0)\n",
        "        y_val = self.y[val_ind:val_ind + self.n_val_samples]\n",
        "        y_train = np.delete(self.y, np.arange(val_ind, val_ind + self.n_val_samples), axis = 0)\n",
        "        return x_train, x_val, y_train, y_val\n",
        "\n",
        "    def _update(self, x, y, B, lambda_):\n",
        "        '''\n",
        "        Performs a single iteration of gradient descent to update the coefficient vector.\n",
        "\n",
        "        Args:\n",
        "            x (np.ndarray): The N x M training design matrix. \n",
        "            y (np.ndarray): The N x 1 vector of responses corresponding to x.\n",
        "            B (np.ndarray): The M x 1 vector of the current estimate of the coefficients.\n",
        "            lambda_ (float): The tuning parameter lambda. \n",
        "\n",
        "        Returns:\n",
        "            B_updated (np.ndarray): The M x 1 vector of coefficients updated slightly. \n",
        "        '''\n",
        "\n",
        "        return B - 2 * self.alpha * (lambda_ * B - np.matmul(x.transpose(), y - np.matmul(x, B)))\n",
        "\n",
        "    def score(self, x, y, B):\n",
        "        '''\n",
        "        Scores a given model given data and desired responses. \n",
        "\n",
        "        Args:\n",
        "            x (np.ndarray): The N x M design matrix.\n",
        "            y (np.ndarray): The N x 1 vector of responses. \n",
        "            B (np.ndarray): The M x 1 vector of coefficients.\n",
        "\n",
        "        Returns:\n",
        "            MSE (float): The MSE between y and xB. \n",
        "        '''\n",
        "\n",
        "        y_hat = np.matmul(x, B)\n",
        "        mse = np.mean((y - y_hat) ** 2)\n",
        "        return mse\n",
        "\n",
        "    def fit(self):\n",
        "        '''\n",
        "        Implements the cross validation and retrains the model with the optimal lambda on the entire dataset.\n",
        "        '''\n",
        "\n",
        "        for i_lambda, lambda_ in enumerate(self.lambdas):\n",
        "            for i_fold, val_ind in zip(range(self.nfolds), self.val_inds):\n",
        "                # get the folds\n",
        "                x_train, x_val, y_train, y_val = self._get_folds(val_ind)\n",
        "\n",
        "                # standardize x and center y\n",
        "                mean_vec, std_vec = np.mean(x_train, 0), np.std(x_train, 0)\n",
        "                mean_response = np.mean(y_train)\n",
        "                x_train = self._standardize(x_train, mean_vec, std_vec)\n",
        "                x_val = self._standardize(x_val, mean_vec, std_vec)\n",
        "                y_train = self._center_responses(y_train, mean_response)[:, None]\n",
        "                y_val = self._center_responses(y_val, mean_response)[:, None]\n",
        "\n",
        "                # initialize Beta for this lambda and fold\n",
        "                B = self._initialize_B()\n",
        "\n",
        "                for iter in range(self.n_iters):\n",
        "                    B = self._update(x_train, y_train, B, lambda_)\n",
        "\n",
        "                # score this model and store the value \n",
        "                self.cv_vals[i_fold, i_lambda] = self.score(x_val, y_val, B)\n",
        "\n",
        "                # store the coefficient vector\n",
        "                self.B_trained[i_fold, i_lambda] = B[:, 0]\n",
        "\n",
        "        # find the best lambda and retrain model\n",
        "        self.best_lambda = self.lambdas[np.argmin(np.mean(self.cv_vals, 0))]\n",
        "        self.mean_vec, self.std_vec = np.mean(self.x, 0), np.std(self.x, 0)\n",
        "        x = self._standardize(self.x, self.mean_vec, self.std_vec)\n",
        "        y = self._center_responses(self.y, np.mean(self.y))[:, None]\n",
        "        self.B = self._initialize_B()\n",
        "        for iter in range(self.n_iters):\n",
        "            self.B = self._update(x, y, self.B, self.best_lambda)"
      ],
      "execution_count": 24,
      "outputs": []
    },
    {
      "cell_type": "code",
      "metadata": {
        "id": "2yKcu-xHOwnO",
        "outputId": "6b6549d7-3105-4600-c9a1-1bb42d9f335c",
        "colab": {
          "base_uri": "https://localhost:8080/",
          "height": 419
        }
      },
      "source": [
        "# read in the data into a pandas dataframe\n",
        "df = pd.read_csv('Credit_N400_p9.csv')\n",
        "df"
      ],
      "execution_count": 25,
      "outputs": [
        {
          "output_type": "execute_result",
          "data": {
            "text/html": [
              "<div>\n",
              "<style scoped>\n",
              "    .dataframe tbody tr th:only-of-type {\n",
              "        vertical-align: middle;\n",
              "    }\n",
              "\n",
              "    .dataframe tbody tr th {\n",
              "        vertical-align: top;\n",
              "    }\n",
              "\n",
              "    .dataframe thead th {\n",
              "        text-align: right;\n",
              "    }\n",
              "</style>\n",
              "<table border=\"1\" class=\"dataframe\">\n",
              "  <thead>\n",
              "    <tr style=\"text-align: right;\">\n",
              "      <th></th>\n",
              "      <th>Income</th>\n",
              "      <th>Limit</th>\n",
              "      <th>Rating</th>\n",
              "      <th>Cards</th>\n",
              "      <th>Age</th>\n",
              "      <th>Education</th>\n",
              "      <th>Gender</th>\n",
              "      <th>Student</th>\n",
              "      <th>Married</th>\n",
              "      <th>Balance</th>\n",
              "    </tr>\n",
              "  </thead>\n",
              "  <tbody>\n",
              "    <tr>\n",
              "      <th>0</th>\n",
              "      <td>14.891</td>\n",
              "      <td>3606</td>\n",
              "      <td>283</td>\n",
              "      <td>2</td>\n",
              "      <td>34</td>\n",
              "      <td>11</td>\n",
              "      <td>Male</td>\n",
              "      <td>No</td>\n",
              "      <td>Yes</td>\n",
              "      <td>333</td>\n",
              "    </tr>\n",
              "    <tr>\n",
              "      <th>1</th>\n",
              "      <td>106.025</td>\n",
              "      <td>6645</td>\n",
              "      <td>483</td>\n",
              "      <td>3</td>\n",
              "      <td>82</td>\n",
              "      <td>15</td>\n",
              "      <td>Female</td>\n",
              "      <td>Yes</td>\n",
              "      <td>Yes</td>\n",
              "      <td>903</td>\n",
              "    </tr>\n",
              "    <tr>\n",
              "      <th>2</th>\n",
              "      <td>104.593</td>\n",
              "      <td>7075</td>\n",
              "      <td>514</td>\n",
              "      <td>4</td>\n",
              "      <td>71</td>\n",
              "      <td>11</td>\n",
              "      <td>Male</td>\n",
              "      <td>No</td>\n",
              "      <td>No</td>\n",
              "      <td>580</td>\n",
              "    </tr>\n",
              "    <tr>\n",
              "      <th>3</th>\n",
              "      <td>148.924</td>\n",
              "      <td>9504</td>\n",
              "      <td>681</td>\n",
              "      <td>3</td>\n",
              "      <td>36</td>\n",
              "      <td>11</td>\n",
              "      <td>Female</td>\n",
              "      <td>No</td>\n",
              "      <td>No</td>\n",
              "      <td>964</td>\n",
              "    </tr>\n",
              "    <tr>\n",
              "      <th>4</th>\n",
              "      <td>55.882</td>\n",
              "      <td>4897</td>\n",
              "      <td>357</td>\n",
              "      <td>2</td>\n",
              "      <td>68</td>\n",
              "      <td>16</td>\n",
              "      <td>Male</td>\n",
              "      <td>No</td>\n",
              "      <td>Yes</td>\n",
              "      <td>331</td>\n",
              "    </tr>\n",
              "    <tr>\n",
              "      <th>...</th>\n",
              "      <td>...</td>\n",
              "      <td>...</td>\n",
              "      <td>...</td>\n",
              "      <td>...</td>\n",
              "      <td>...</td>\n",
              "      <td>...</td>\n",
              "      <td>...</td>\n",
              "      <td>...</td>\n",
              "      <td>...</td>\n",
              "      <td>...</td>\n",
              "    </tr>\n",
              "    <tr>\n",
              "      <th>395</th>\n",
              "      <td>12.096</td>\n",
              "      <td>4100</td>\n",
              "      <td>307</td>\n",
              "      <td>3</td>\n",
              "      <td>32</td>\n",
              "      <td>13</td>\n",
              "      <td>Male</td>\n",
              "      <td>No</td>\n",
              "      <td>Yes</td>\n",
              "      <td>560</td>\n",
              "    </tr>\n",
              "    <tr>\n",
              "      <th>396</th>\n",
              "      <td>13.364</td>\n",
              "      <td>3838</td>\n",
              "      <td>296</td>\n",
              "      <td>5</td>\n",
              "      <td>65</td>\n",
              "      <td>17</td>\n",
              "      <td>Male</td>\n",
              "      <td>No</td>\n",
              "      <td>No</td>\n",
              "      <td>480</td>\n",
              "    </tr>\n",
              "    <tr>\n",
              "      <th>397</th>\n",
              "      <td>57.872</td>\n",
              "      <td>4171</td>\n",
              "      <td>321</td>\n",
              "      <td>5</td>\n",
              "      <td>67</td>\n",
              "      <td>12</td>\n",
              "      <td>Female</td>\n",
              "      <td>No</td>\n",
              "      <td>Yes</td>\n",
              "      <td>138</td>\n",
              "    </tr>\n",
              "    <tr>\n",
              "      <th>398</th>\n",
              "      <td>37.728</td>\n",
              "      <td>2525</td>\n",
              "      <td>192</td>\n",
              "      <td>1</td>\n",
              "      <td>44</td>\n",
              "      <td>13</td>\n",
              "      <td>Male</td>\n",
              "      <td>No</td>\n",
              "      <td>Yes</td>\n",
              "      <td>0</td>\n",
              "    </tr>\n",
              "    <tr>\n",
              "      <th>399</th>\n",
              "      <td>18.701</td>\n",
              "      <td>5524</td>\n",
              "      <td>415</td>\n",
              "      <td>5</td>\n",
              "      <td>64</td>\n",
              "      <td>7</td>\n",
              "      <td>Female</td>\n",
              "      <td>No</td>\n",
              "      <td>No</td>\n",
              "      <td>966</td>\n",
              "    </tr>\n",
              "  </tbody>\n",
              "</table>\n",
              "<p>400 rows × 10 columns</p>\n",
              "</div>"
            ],
            "text/plain": [
              "      Income  Limit  Rating  Cards  ...  Gender  Student Married Balance\n",
              "0     14.891   3606     283      2  ...    Male       No     Yes     333\n",
              "1    106.025   6645     483      3  ...  Female      Yes     Yes     903\n",
              "2    104.593   7075     514      4  ...    Male       No      No     580\n",
              "3    148.924   9504     681      3  ...  Female       No      No     964\n",
              "4     55.882   4897     357      2  ...    Male       No     Yes     331\n",
              "..       ...    ...     ...    ...  ...     ...      ...     ...     ...\n",
              "395   12.096   4100     307      3  ...    Male       No     Yes     560\n",
              "396   13.364   3838     296      5  ...    Male       No      No     480\n",
              "397   57.872   4171     321      5  ...  Female       No     Yes     138\n",
              "398   37.728   2525     192      1  ...    Male       No     Yes       0\n",
              "399   18.701   5524     415      5  ...  Female       No      No     966\n",
              "\n",
              "[400 rows x 10 columns]"
            ]
          },
          "metadata": {
            "tags": []
          },
          "execution_count": 25
        }
      ]
    },
    {
      "cell_type": "code",
      "metadata": {
        "id": "fAbLWpEI1DW8",
        "outputId": "1ef5b0ed-4ff6-4aad-b62e-80a8fa91ce08",
        "colab": {
          "base_uri": "https://localhost:8080/",
          "height": 419
        }
      },
      "source": [
        "# recode the gender, student, and married preds \n",
        "df['Gender'].replace(to_replace = dict(Female = 0, Male = 1), inplace=True)\n",
        "df['Student'].replace(to_replace = dict(No = 0, Yes = 1), inplace=True)\n",
        "df['Married'].replace(to_replace = dict(No = 0, Yes = 1), inplace=True)\n",
        "df"
      ],
      "execution_count": 26,
      "outputs": [
        {
          "output_type": "execute_result",
          "data": {
            "text/html": [
              "<div>\n",
              "<style scoped>\n",
              "    .dataframe tbody tr th:only-of-type {\n",
              "        vertical-align: middle;\n",
              "    }\n",
              "\n",
              "    .dataframe tbody tr th {\n",
              "        vertical-align: top;\n",
              "    }\n",
              "\n",
              "    .dataframe thead th {\n",
              "        text-align: right;\n",
              "    }\n",
              "</style>\n",
              "<table border=\"1\" class=\"dataframe\">\n",
              "  <thead>\n",
              "    <tr style=\"text-align: right;\">\n",
              "      <th></th>\n",
              "      <th>Income</th>\n",
              "      <th>Limit</th>\n",
              "      <th>Rating</th>\n",
              "      <th>Cards</th>\n",
              "      <th>Age</th>\n",
              "      <th>Education</th>\n",
              "      <th>Gender</th>\n",
              "      <th>Student</th>\n",
              "      <th>Married</th>\n",
              "      <th>Balance</th>\n",
              "    </tr>\n",
              "  </thead>\n",
              "  <tbody>\n",
              "    <tr>\n",
              "      <th>0</th>\n",
              "      <td>14.891</td>\n",
              "      <td>3606</td>\n",
              "      <td>283</td>\n",
              "      <td>2</td>\n",
              "      <td>34</td>\n",
              "      <td>11</td>\n",
              "      <td>1</td>\n",
              "      <td>0</td>\n",
              "      <td>1</td>\n",
              "      <td>333</td>\n",
              "    </tr>\n",
              "    <tr>\n",
              "      <th>1</th>\n",
              "      <td>106.025</td>\n",
              "      <td>6645</td>\n",
              "      <td>483</td>\n",
              "      <td>3</td>\n",
              "      <td>82</td>\n",
              "      <td>15</td>\n",
              "      <td>0</td>\n",
              "      <td>1</td>\n",
              "      <td>1</td>\n",
              "      <td>903</td>\n",
              "    </tr>\n",
              "    <tr>\n",
              "      <th>2</th>\n",
              "      <td>104.593</td>\n",
              "      <td>7075</td>\n",
              "      <td>514</td>\n",
              "      <td>4</td>\n",
              "      <td>71</td>\n",
              "      <td>11</td>\n",
              "      <td>1</td>\n",
              "      <td>0</td>\n",
              "      <td>0</td>\n",
              "      <td>580</td>\n",
              "    </tr>\n",
              "    <tr>\n",
              "      <th>3</th>\n",
              "      <td>148.924</td>\n",
              "      <td>9504</td>\n",
              "      <td>681</td>\n",
              "      <td>3</td>\n",
              "      <td>36</td>\n",
              "      <td>11</td>\n",
              "      <td>0</td>\n",
              "      <td>0</td>\n",
              "      <td>0</td>\n",
              "      <td>964</td>\n",
              "    </tr>\n",
              "    <tr>\n",
              "      <th>4</th>\n",
              "      <td>55.882</td>\n",
              "      <td>4897</td>\n",
              "      <td>357</td>\n",
              "      <td>2</td>\n",
              "      <td>68</td>\n",
              "      <td>16</td>\n",
              "      <td>1</td>\n",
              "      <td>0</td>\n",
              "      <td>1</td>\n",
              "      <td>331</td>\n",
              "    </tr>\n",
              "    <tr>\n",
              "      <th>...</th>\n",
              "      <td>...</td>\n",
              "      <td>...</td>\n",
              "      <td>...</td>\n",
              "      <td>...</td>\n",
              "      <td>...</td>\n",
              "      <td>...</td>\n",
              "      <td>...</td>\n",
              "      <td>...</td>\n",
              "      <td>...</td>\n",
              "      <td>...</td>\n",
              "    </tr>\n",
              "    <tr>\n",
              "      <th>395</th>\n",
              "      <td>12.096</td>\n",
              "      <td>4100</td>\n",
              "      <td>307</td>\n",
              "      <td>3</td>\n",
              "      <td>32</td>\n",
              "      <td>13</td>\n",
              "      <td>1</td>\n",
              "      <td>0</td>\n",
              "      <td>1</td>\n",
              "      <td>560</td>\n",
              "    </tr>\n",
              "    <tr>\n",
              "      <th>396</th>\n",
              "      <td>13.364</td>\n",
              "      <td>3838</td>\n",
              "      <td>296</td>\n",
              "      <td>5</td>\n",
              "      <td>65</td>\n",
              "      <td>17</td>\n",
              "      <td>1</td>\n",
              "      <td>0</td>\n",
              "      <td>0</td>\n",
              "      <td>480</td>\n",
              "    </tr>\n",
              "    <tr>\n",
              "      <th>397</th>\n",
              "      <td>57.872</td>\n",
              "      <td>4171</td>\n",
              "      <td>321</td>\n",
              "      <td>5</td>\n",
              "      <td>67</td>\n",
              "      <td>12</td>\n",
              "      <td>0</td>\n",
              "      <td>0</td>\n",
              "      <td>1</td>\n",
              "      <td>138</td>\n",
              "    </tr>\n",
              "    <tr>\n",
              "      <th>398</th>\n",
              "      <td>37.728</td>\n",
              "      <td>2525</td>\n",
              "      <td>192</td>\n",
              "      <td>1</td>\n",
              "      <td>44</td>\n",
              "      <td>13</td>\n",
              "      <td>1</td>\n",
              "      <td>0</td>\n",
              "      <td>1</td>\n",
              "      <td>0</td>\n",
              "    </tr>\n",
              "    <tr>\n",
              "      <th>399</th>\n",
              "      <td>18.701</td>\n",
              "      <td>5524</td>\n",
              "      <td>415</td>\n",
              "      <td>5</td>\n",
              "      <td>64</td>\n",
              "      <td>7</td>\n",
              "      <td>0</td>\n",
              "      <td>0</td>\n",
              "      <td>0</td>\n",
              "      <td>966</td>\n",
              "    </tr>\n",
              "  </tbody>\n",
              "</table>\n",
              "<p>400 rows × 10 columns</p>\n",
              "</div>"
            ],
            "text/plain": [
              "      Income  Limit  Rating  Cards  ...  Gender  Student  Married  Balance\n",
              "0     14.891   3606     283      2  ...       1        0        1      333\n",
              "1    106.025   6645     483      3  ...       0        1        1      903\n",
              "2    104.593   7075     514      4  ...       1        0        0      580\n",
              "3    148.924   9504     681      3  ...       0        0        0      964\n",
              "4     55.882   4897     357      2  ...       1        0        1      331\n",
              "..       ...    ...     ...    ...  ...     ...      ...      ...      ...\n",
              "395   12.096   4100     307      3  ...       1        0        1      560\n",
              "396   13.364   3838     296      5  ...       1        0        0      480\n",
              "397   57.872   4171     321      5  ...       0        0        1      138\n",
              "398   37.728   2525     192      1  ...       1        0        1        0\n",
              "399   18.701   5524     415      5  ...       0        0        0      966\n",
              "\n",
              "[400 rows x 10 columns]"
            ]
          },
          "metadata": {
            "tags": []
          },
          "execution_count": 26
        }
      ]
    },
    {
      "cell_type": "code",
      "metadata": {
        "id": "a6rgSVFt0-Lc",
        "outputId": "98dc7a72-11cd-4949-bbe3-073e5bac2a05",
        "colab": {
          "base_uri": "https://localhost:8080/",
          "height": 34
        }
      },
      "source": [
        "# separate the predictors from the response\n",
        "X = df.to_numpy()[:, :-1]\n",
        "Y = df.to_numpy()[:, -1]\n",
        "print(X.shape, Y.shape)"
      ],
      "execution_count": 27,
      "outputs": [
        {
          "output_type": "stream",
          "text": [
            "(400, 9) (400,)\n"
          ],
          "name": "stdout"
        }
      ]
    },
    {
      "cell_type": "code",
      "metadata": {
        "id": "676w7t_e2jOr"
      },
      "source": [
        "# instantiate the model class\n",
        "ridge_cv = RidgeRegressionCV(\n",
        "    preds = X,\n",
        "    responses = Y,\n",
        "    lambdas = 10 ** np.arange(-2., 5.),\n",
        "    alpha = 5e-6,\n",
        "    n_iters = 2500\n",
        ")"
      ],
      "execution_count": 28,
      "outputs": []
    },
    {
      "cell_type": "code",
      "metadata": {
        "id": "rSKcCFTQEkPz"
      },
      "source": [
        "# fit the model\n",
        "ridge_cv.fit()"
      ],
      "execution_count": 29,
      "outputs": []
    },
    {
      "cell_type": "code",
      "metadata": {
        "id": "AwqtUQSIOFGn",
        "outputId": "5829462d-fc37-4d4a-c8dd-1480e258fa3c",
        "colab": {
          "base_uri": "https://localhost:8080/",
          "height": 279
        }
      },
      "source": [
        "mean_betas = np.mean(ridge_cv.B_trained, 0)\n",
        "pred_names = df.columns\n",
        "for i_beta in range(mean_betas.shape[1]):\n",
        "    plt.plot(np.log10(ridge_cv.lambdas), mean_betas[:, i_beta], label = pred_names[i_beta])\n",
        "plt.legend(bbox_to_anchor = (1.05, 1), loc = 'upper left')\n",
        "plt.xlabel('Log lambda')\n",
        "plt.ylabel('Coefficient Value')\n",
        "plt.show()"
      ],
      "execution_count": 30,
      "outputs": [
        {
          "output_type": "display_data",
          "data": {
            "image/png": "[encoded data removed]",
            "text/plain": [
              "<Figure size 432x288 with 1 Axes>"
            ]
          },
          "metadata": {
            "tags": [],
            "needs_background": "light"
          }
        }
      ]
    },
    {
      "cell_type": "code",
      "metadata": {
        "id": "qTqabs2vgGlf",
        "outputId": "0d3b66d7-0094-45e7-ca48-7bd026693ba0",
        "colab": {
          "base_uri": "https://localhost:8080/",
          "height": 296
        }
      },
      "source": [
        "se = np.std(ridge_cv.cv_vals, 0) / np.sqrt(ridge_cv.cv_vals.shape[0])\n",
        "plt.errorbar(np.log10(ridge_cv.lambdas), np.mean(ridge_cv.cv_vals, 0), yerr = se)\n",
        "plt.xlabel('Log lambda')\n",
        "plt.ylabel('CV MSE')"
      ],
      "execution_count": 31,
      "outputs": [
        {
          "output_type": "execute_result",
          "data": {
            "text/plain": [
              "Text(0, 0.5, 'CV MSE')"
            ]
          },
          "metadata": {
            "tags": []
          },
          "execution_count": 31
        },
        {
          "output_type": "display_data",
          "data": {
            "image/png": "[encoded data removed]",
            "text/plain": [
              "<Figure size 432x288 with 1 Axes>"
            ]
          },
          "metadata": {
            "tags": [],
            "needs_background": "light"
          }
        }
      ]
    },
    {
      "cell_type": "code",
      "metadata": {
        "id": "wzxrCjWhiR6y",
        "outputId": "ea814b34-560f-4a5f-c7eb-cd77b2500b61",
        "colab": {
          "base_uri": "https://localhost:8080/",
          "height": 34
        }
      },
      "source": [
        "# lambda with lowest cv mse\n",
        "ridge_cv.best_lambda"
      ],
      "execution_count": 32,
      "outputs": [
        {
          "output_type": "execute_result",
          "data": {
            "text/plain": [
              "0.01"
            ]
          },
          "metadata": {
            "tags": []
          },
          "execution_count": 32
        }
      ]
    },
    {
      "cell_type": "code",
      "metadata": {
        "id": "kqkvK3hujvpT",
        "outputId": "a9927b44-50e0-4ec2-e7bb-963cfb652d80",
        "colab": {
          "base_uri": "https://localhost:8080/",
          "height": 170
        }
      },
      "source": [
        "# coefficient vector\n",
        "ridge_cv.B"
      ],
      "execution_count": 33,
      "outputs": [
        {
          "output_type": "execute_result",
          "data": {
            "text/plain": [
              "array([[-246.73119689],\n",
              "       [ 298.79170834],\n",
              "       [ 291.73711532],\n",
              "       [  20.76175164],\n",
              "       [ -14.50287712],\n",
              "       [  -2.33128066],\n",
              "       [   4.30462658],\n",
              "       [ 125.99106492],\n",
              "       [  -5.01065371]])"
            ]
          },
          "metadata": {
            "tags": []
          },
          "execution_count": 33
        }
      ]
    },
    {
      "cell_type": "code",
      "metadata": {
        "id": "6OmGp3ow_I0g",
        "outputId": "24e9e9eb-2c0d-490f-9ee7-a5d16db2c237",
        "colab": {
          "base_uri": "https://localhost:8080/",
          "height": 279
        }
      },
      "source": [
        "# predict responses and compare against actual responses\n",
        "y_hat = ridge_cv.predict(ridge_cv.x)\n",
        "plt.scatter(y_hat, ridge_cv.y)\n",
        "plt.xlabel('Predicted Response')\n",
        "plt.ylabel('Actual Response')\n",
        "plt.show()"
      ],
      "execution_count": 34,
      "outputs": [
        {
          "output_type": "display_data",
          "data": {
            "image/png": "[encoded data removed]",
            "text/plain": [
              "<Figure size 432x288 with 1 Axes>"
            ]
          },
          "metadata": {
            "tags": [],
            "needs_background": "light"
          }
        }
      ]
    },
    {
      "cell_type": "markdown",
      "metadata": {
        "id": "a1kH0d6c9DEa"
      },
      "source": [
        "## Sklearn"
      ]
    },
    {
      "cell_type": "code",
      "metadata": {
        "id": "bW2L3b05m10w"
      },
      "source": [
        "from sklearn.linear_model import RidgeCV"
      ],
      "execution_count": 35,
      "outputs": []
    },
    {
      "cell_type": "code",
      "metadata": {
        "id": "a3Q7d3vL9lsv"
      },
      "source": [
        "ridge_sklearn = RidgeCV(\n",
        "    alphas = 10 ** np.arange(-2., 5.),\n",
        "    fit_intercept = False,\n",
        "    normalize = False,\n",
        "    cv = 5\n",
        ")"
      ],
      "execution_count": 36,
      "outputs": []
    },
    {
      "cell_type": "code",
      "metadata": {
        "id": "PQ0minauArvf"
      },
      "source": [
        "X = (X - np.mean(X, 0)) / np.std(X, 0)\n",
        "Y -= np.mean(Y)"
      ],
      "execution_count": 37,
      "outputs": []
    },
    {
      "cell_type": "code",
      "metadata": {
        "id": "ADiGRCHp_57R",
        "outputId": "e060020c-b884-4e60-a40d-fe107b5ebf6d",
        "colab": {
          "base_uri": "https://localhost:8080/",
          "height": 68
        }
      },
      "source": [
        "ridge_sklearn.fit(X, Y)"
      ],
      "execution_count": 38,
      "outputs": [
        {
          "output_type": "execute_result",
          "data": {
            "text/plain": [
              "RidgeCV(alphas=array([1.e-02, 1.e-01, 1.e+00, 1.e+01, 1.e+02, 1.e+03, 1.e+04]),\n",
              "        cv=5, fit_intercept=False, gcv_mode=None, normalize=False, scoring=None,\n",
              "        store_cv_values=False)"
            ]
          },
          "metadata": {
            "tags": []
          },
          "execution_count": 38
        }
      ]
    },
    {
      "cell_type": "code",
      "metadata": {
        "id": "4OOJkKZnAApB",
        "outputId": "46234489-922f-4ca4-c5e5-59b87789b3b1",
        "colab": {
          "base_uri": "https://localhost:8080/",
          "height": 68
        }
      },
      "source": [
        "ridge_sklearn.coef_"
      ],
      "execution_count": 39,
      "outputs": [
        {
          "output_type": "execute_result",
          "data": {
            "text/plain": [
              "array([-271.23122766,  369.52441617,  242.60689635,   21.49206153,\n",
              "        -11.27075014,   -3.04525924,    5.09410044,  127.07827162,\n",
              "         -3.97552834])"
            ]
          },
          "metadata": {
            "tags": []
          },
          "execution_count": 39
        }
      ]
    },
    {
      "cell_type": "code",
      "metadata": {
        "id": "CRK5zUzYAIiZ",
        "outputId": "94999456-0e23-4f9a-9042-8bbafd543dc1",
        "colab": {
          "base_uri": "https://localhost:8080/",
          "height": 279
        }
      },
      "source": [
        "y_hat = ridge_sklearn.predict(X)\n",
        "plt.scatter(y_hat, Y)\n",
        "plt.xlabel('Predicted Response')\n",
        "plt.ylabel('Actual Response')\n",
        "plt.show()"
      ],
      "execution_count": 40,
      "outputs": [
        {
          "output_type": "display_data",
          "data": {
            "image/png": "[encoded data removed]",
            "text/plain": [
              "<Figure size 432x288 with 1 Axes>"
            ]
          },
          "metadata": {
            "tags": [],
            "needs_background": "light"
          }
        }
      ]
    },
    {
      "cell_type": "code",
      "metadata": {
        "id": "qsI6IzX_BBQy"
      },
      "source": [
        ""
      ],
      "execution_count": null,
      "outputs": []
    }
  ]
}